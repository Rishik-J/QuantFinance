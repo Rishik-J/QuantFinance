{
  "nbformat": 4,
  "nbformat_minor": 0,
  "metadata": {
    "colab": {
      "name": "Implementing the black-sholes in python",
      "provenance": []
    },
    "kernelspec": {
      "name": "python3",
      "display_name": "Python 3"
    },
    "language_info": {
      "name": "python"
    }
  },
  "cells": [
    {
      "cell_type": "code",
      "source": [
        "!pip install scipy\n",
        "!pip install numpy"
      ],
      "metadata": {
        "colab": {
          "base_uri": "https://localhost:8080/"
        },
        "id": "DmfjNDcwwKUc",
        "outputId": "91d633bb-110c-45bd-cf44-4ff747298ca2"
      },
      "execution_count": null,
      "outputs": [
        {
          "output_type": "stream",
          "name": "stdout",
          "text": [
            "Looking in indexes: https://pypi.org/simple, https://us-python.pkg.dev/colab-wheels/public/simple/\n",
            "Requirement already satisfied: scipy in /usr/local/lib/python3.7/dist-packages (1.7.3)\n",
            "Requirement already satisfied: numpy<1.23.0,>=1.16.5 in /usr/local/lib/python3.7/dist-packages (from scipy) (1.21.6)\n",
            "Looking in indexes: https://pypi.org/simple, https://us-python.pkg.dev/colab-wheels/public/simple/\n",
            "Requirement already satisfied: numpy in /usr/local/lib/python3.7/dist-packages (1.21.6)\n"
          ]
        }
      ]
    },
    {
      "cell_type": "code",
      "execution_count": null,
      "metadata": {
        "id": "7hOqqniVsBp-"
      },
      "outputs": [],
      "source": [
        "import numpy as np\n",
        "from scipy.stats import norm"
      ]
    },
    {
      "cell_type": "code",
      "source": [
        "#Defining variables\n",
        "\n",
        "interestRate = 0.01\n",
        "underlyingPrice = 30\n",
        "strikePrice = 40\n",
        "time = 240/365\n",
        "Volatility = 0.30\n"
      ],
      "metadata": {
        "id": "0YOkcmtTsQIr"
      },
      "execution_count": null,
      "outputs": []
    },
    {
      "cell_type": "code",
      "source": [
        "#Defining the Black-Scholes Function\n",
        "#Calculates the Black-Scholes option price for a call/put\n",
        "def blackScholes(interestRate, underlyingPrice, strikePrice, time, Volatility, type=\"call\"):\n",
        "  d1 = (np.log(underlyingPrice/strikePrice) + (interestRate + Volatility**2/2) * time) / (Volatility*np.sqrt(time))\n",
        "\n",
        "  d2 = d1 - (Volatility *np.sqrt(time))\n",
        "\n",
        "  try:\n",
        "    if type ==\"call\":\n",
        "      optionPrice = underlyingPrice * norm.cdf(d1, 0, 1) - strikePrice*np.exp(-interestRate*time) * norm.cdf(d2, 0, 1)\n",
        "    elif type == \"put\":\n",
        "      optionPrice = strikePrice*np.exp(-interestRate*time) * norm.cdf(-d2, 0, 1) - underlyingPrice * norm.cdf(-d1, 0, 1) \n",
        "  except:\n",
        "    print(\"Pick either call or put and confirm option parameters above\")\n",
        "  \n",
        "  return optionPrice\n",
        "  \n",
        "\n"
      ],
      "metadata": {
        "id": "g3hCAICBsmY7"
      },
      "execution_count": null,
      "outputs": []
    },
    {
      "cell_type": "code",
      "source": [
        "print(blackScholes(interestRate, underlyingPrice, strikePrice, time, Volatility, \"put\"))"
      ],
      "metadata": {
        "colab": {
          "base_uri": "https://localhost:8080/"
        },
        "id": "U-lfU1tPuPq1",
        "outputId": "123cf9b2-7ecf-407e-f45b-69a85c4b1995"
      },
      "execution_count": null,
      "outputs": [
        {
          "output_type": "stream",
          "name": "stdout",
          "text": [
            "10.251133491653508\n"
          ]
        }
      ]
    },
    {
      "cell_type": "code",
      "source": [
        ""
      ],
      "metadata": {
        "id": "tlbZrYHTwV6O"
      },
      "execution_count": null,
      "outputs": []
    }
  ]
}