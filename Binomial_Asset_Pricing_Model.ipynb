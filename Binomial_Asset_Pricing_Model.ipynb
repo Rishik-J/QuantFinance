{
  "nbformat": 4,
  "nbformat_minor": 0,
  "metadata": {
    "colab": {
      "name": "Binomial Asset Pricing Model",
      "provenance": []
    },
    "kernelspec": {
      "name": "python3",
      "display_name": "Python 3"
    },
    "language_info": {
      "name": "python"
    }
  },
  "cells": [
    {
      "cell_type": "code",
      "execution_count": null,
      "metadata": {
        "id": "jC9WnbpDyP13"
      },
      "outputs": [],
      "source": [
        "import numpy as np"
      ]
    },
    {
      "cell_type": "markdown",
      "source": [
        "#Binomial Tree Representation\n",
        "\n",
        "Stock trees can be represented using nodes (𝑖,𝑗) and intial stock price 𝑆0\n",
        "𝑆𝑖,𝑗=𝑆0𝑢𝑗𝑑𝑖−𝑗𝐶𝑖,𝑗 which represents contract price at each node (𝑖,𝑗). \n",
        "\n",
        "Where 𝐶𝑁,𝑗 represents final payoff function that we can define.\n",
        "\n",
        "Simulating a European Call, so 𝐶𝑁,𝑗=𝑚𝑎𝑥(𝑆𝑁,𝑗−𝐾,0)"
      ],
      "metadata": {
        "id": "sJaxyAURBJdy"
      }
    },
    {
      "cell_type": "code",
      "source": [
        "# Initialise parameters\n",
        "underlying = 50    \n",
        "strikePrice = 100      \n",
        "time = 0.5         \n",
        "riskFreeRate = 0.06      \n",
        "numberOfSteps = 30       \n",
        "upFactor = 1.1       \n",
        "downFactor = 1/upFactor      \n",
        "optionType = 'call' "
      ],
      "metadata": {
        "id": "m8oGfHksCGvq"
      },
      "execution_count": null,
      "outputs": []
    },
    {
      "cell_type": "code",
      "source": [
        "def binomial_tree_fast(underlying, strikePrice, time, riskFreeRate, numberOfSteps, upFactor, downFactor, optionType='call'):\n",
        "    #precompute constants\n",
        "    dt = time/numberOfSteps\n",
        "    q = (np.exp(riskFreeRate*dt) - downFactor) / (upFactor-downFactor)\n",
        "    disc = np.exp(-riskFreeRate*dt)\n",
        "    \n",
        "    # initialise asset prices at maturity - Time step N\n",
        "    C = underlying * downFactor ** (np.arange(numberOfSteps,-1,-1)) * upFactor ** (np.arange(0,numberOfSteps+1,1)) \n",
        "    \n",
        "    # initialise option values at maturity\n",
        "    C = np.maximum( C - strikePrice , np.zeros(numberOfSteps+1) )\n",
        "        \n",
        "    # step backwards through tree\n",
        "    for i in np.arange(numberOfSteps,0,-1):\n",
        "        C = disc * ( q * C[1:i+1] + (1-q) * C[0:i] )\n",
        "    \n",
        "    return C[0]"
      ],
      "metadata": {
        "id": "lC283TMCz6qG"
      },
      "execution_count": null,
      "outputs": []
    },
    {
      "cell_type": "code",
      "source": [
        "print(binomial_tree_fast(underlying, strikePrice, time, riskFreeRate, numberOfSteps, upFactor, downFactor, optionType='call'))"
      ],
      "metadata": {
        "colab": {
          "base_uri": "https://localhost:8080/"
        },
        "id": "lKgZ0GDMDKEM",
        "outputId": "18ddbff8-0143-4ea1-9175-bef8419f343a"
      },
      "execution_count": null,
      "outputs": [
        {
          "output_type": "stream",
          "name": "stdout",
          "text": [
            "1.7360374238785106\n"
          ]
        }
      ]
    },
    {
      "cell_type": "code",
      "source": [
        ""
      ],
      "metadata": {
        "id": "bpFJiZVXD-Zd"
      },
      "execution_count": null,
      "outputs": []
    }
  ]
}