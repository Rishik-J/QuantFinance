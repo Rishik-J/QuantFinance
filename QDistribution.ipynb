{
  "nbformat": 4,
  "nbformat_minor": 0,
  "metadata": {
    "colab": {
      "provenance": [],
      "authorship_tag": "ABX9TyNAvigyqidhLUflPhKAmoi5",
      "include_colab_link": true
    },
    "kernelspec": {
      "name": "python3",
      "display_name": "Python 3"
    },
    "language_info": {
      "name": "python"
    }
  },
  "cells": [
    {
      "cell_type": "markdown",
      "metadata": {
        "id": "view-in-github",
        "colab_type": "text"
      },
      "source": [
        "<a href=\"https://colab.research.google.com/github/Rishik-J/QuantFinance/blob/main/QDistribution.ipynb\" target=\"_parent\"><img src=\"https://colab.research.google.com/assets/colab-badge.svg\" alt=\"Open In Colab\"/></a>"
      ]
    },
    {
      "cell_type": "markdown",
      "source": [
        "# Program to plot the IV of an option's chain at a certain expiraiton date"
      ],
      "metadata": {
        "id": "gh3i-GH3I0Rx"
      }
    },
    {
      "cell_type": "markdown",
      "source": [
        "## Importing Libraries and reading in data"
      ],
      "metadata": {
        "id": "GHWzGZPZJ4K_"
      }
    },
    {
      "cell_type": "code",
      "execution_count": null,
      "metadata": {
        "id": "zfct_fu-Dutl"
      },
      "outputs": [],
      "source": [
        "# Importing Libraries\n",
        "import pandas as pd\n",
        "import numpy as np\n",
        "import math"
      ]
    },
    {
      "cell_type": "code",
      "source": [
        "# Reading in data\n",
        "data = pd.read_csv(\"spydec6.csv\", on_bad_lines='skip', parse_dates=True, index_col=0)\n",
        "data.rename(columns = {'Bid.1':'Bid1', 'Ask.1':'Ask1'}, inplace = True)\n",
        "len(data.index)"
      ],
      "metadata": {
        "colab": {
          "base_uri": "https://localhost:8080/"
        },
        "id": "L6I54KnuDzwA",
        "outputId": "ee0ca9fe-4b39-4e8c-a459-c2ac1840c1ea"
      },
      "execution_count": null,
      "outputs": [
        {
          "output_type": "execute_result",
          "data": {
            "text/plain": [
              "1756"
            ]
          },
          "metadata": {},
          "execution_count": 16
        }
      ]
    },
    {
      "cell_type": "markdown",
      "source": [
        "## Cleaning and pre-processing data"
      ],
      "metadata": {
        "id": "ThCdeSDgJ91K"
      }
    },
    {
      "cell_type": "code",
      "source": [
        "# Select the expiration data you want to plot the Q distribution for\n",
        "data = data.loc['2022-12-8']\n",
        "\n",
        "# Remove irrelavent columns\n",
        "columns = ['Bid', 'Ask', 'Strike', 'Bid1', 'Ask1']\n",
        "data = data[columns]\n",
        "\n",
        "# Remove all rows that have a $0 bid or ask price \n",
        "data = data[data.Bid1 > 0]\n",
        "data = data[data.Bid > 0]\n",
        "data = data[data.Ask > 0]\n",
        "data = data[data.Ask1 > 0]\n",
        "data.head()"
      ],
      "metadata": {
        "colab": {
          "base_uri": "https://localhost:8080/",
          "height": 238
        },
        "id": "8eRfeDwID6h_",
        "outputId": "696ba118-278b-487b-e4a0-1fa7f5c3f678"
      },
      "execution_count": null,
      "outputs": [
        {
          "output_type": "execute_result",
          "data": {
            "text/plain": [
              "                   Bid    Ask  Strike  Bid1  Ask1\n",
              "Expiration Date                                  \n",
              "2022-12-08       55.46  55.67   343.0  0.01  0.02\n",
              "2022-12-08       54.46  54.65   344.0  0.01  0.02\n",
              "2022-12-08       53.46  53.65   345.0  0.01  0.02\n",
              "2022-12-08       52.46  52.66   346.0  0.01  0.02\n",
              "2022-12-08       51.48  51.68   347.0  0.01  0.02"
            ],
            "text/html": [
              "\n",
              "  <div id=\"df-81b81617-000e-4493-bc78-48811288f42f\">\n",
              "    <div class=\"colab-df-container\">\n",
              "      <div>\n",
              "<style scoped>\n",
              "    .dataframe tbody tr th:only-of-type {\n",
              "        vertical-align: middle;\n",
              "    }\n",
              "\n",
              "    .dataframe tbody tr th {\n",
              "        vertical-align: top;\n",
              "    }\n",
              "\n",
              "    .dataframe thead th {\n",
              "        text-align: right;\n",
              "    }\n",
              "</style>\n",
              "<table border=\"1\" class=\"dataframe\">\n",
              "  <thead>\n",
              "    <tr style=\"text-align: right;\">\n",
              "      <th></th>\n",
              "      <th>Bid</th>\n",
              "      <th>Ask</th>\n",
              "      <th>Strike</th>\n",
              "      <th>Bid1</th>\n",
              "      <th>Ask1</th>\n",
              "    </tr>\n",
              "    <tr>\n",
              "      <th>Expiration Date</th>\n",
              "      <th></th>\n",
              "      <th></th>\n",
              "      <th></th>\n",
              "      <th></th>\n",
              "      <th></th>\n",
              "    </tr>\n",
              "  </thead>\n",
              "  <tbody>\n",
              "    <tr>\n",
              "      <th>2022-12-08</th>\n",
              "      <td>55.46</td>\n",
              "      <td>55.67</td>\n",
              "      <td>343.0</td>\n",
              "      <td>0.01</td>\n",
              "      <td>0.02</td>\n",
              "    </tr>\n",
              "    <tr>\n",
              "      <th>2022-12-08</th>\n",
              "      <td>54.46</td>\n",
              "      <td>54.65</td>\n",
              "      <td>344.0</td>\n",
              "      <td>0.01</td>\n",
              "      <td>0.02</td>\n",
              "    </tr>\n",
              "    <tr>\n",
              "      <th>2022-12-08</th>\n",
              "      <td>53.46</td>\n",
              "      <td>53.65</td>\n",
              "      <td>345.0</td>\n",
              "      <td>0.01</td>\n",
              "      <td>0.02</td>\n",
              "    </tr>\n",
              "    <tr>\n",
              "      <th>2022-12-08</th>\n",
              "      <td>52.46</td>\n",
              "      <td>52.66</td>\n",
              "      <td>346.0</td>\n",
              "      <td>0.01</td>\n",
              "      <td>0.02</td>\n",
              "    </tr>\n",
              "    <tr>\n",
              "      <th>2022-12-08</th>\n",
              "      <td>51.48</td>\n",
              "      <td>51.68</td>\n",
              "      <td>347.0</td>\n",
              "      <td>0.01</td>\n",
              "      <td>0.02</td>\n",
              "    </tr>\n",
              "  </tbody>\n",
              "</table>\n",
              "</div>\n",
              "      <button class=\"colab-df-convert\" onclick=\"convertToInteractive('df-81b81617-000e-4493-bc78-48811288f42f')\"\n",
              "              title=\"Convert this dataframe to an interactive table.\"\n",
              "              style=\"display:none;\">\n",
              "        \n",
              "  <svg xmlns=\"http://www.w3.org/2000/svg\" height=\"24px\"viewBox=\"0 0 24 24\"\n",
              "       width=\"24px\">\n",
              "    <path d=\"M0 0h24v24H0V0z\" fill=\"none\"/>\n",
              "    <path d=\"M18.56 5.44l.94 2.06.94-2.06 2.06-.94-2.06-.94-.94-2.06-.94 2.06-2.06.94zm-11 1L8.5 8.5l.94-2.06 2.06-.94-2.06-.94L8.5 2.5l-.94 2.06-2.06.94zm10 10l.94 2.06.94-2.06 2.06-.94-2.06-.94-.94-2.06-.94 2.06-2.06.94z\"/><path d=\"M17.41 7.96l-1.37-1.37c-.4-.4-.92-.59-1.43-.59-.52 0-1.04.2-1.43.59L10.3 9.45l-7.72 7.72c-.78.78-.78 2.05 0 2.83L4 21.41c.39.39.9.59 1.41.59.51 0 1.02-.2 1.41-.59l7.78-7.78 2.81-2.81c.8-.78.8-2.07 0-2.86zM5.41 20L4 18.59l7.72-7.72 1.47 1.35L5.41 20z\"/>\n",
              "  </svg>\n",
              "      </button>\n",
              "      \n",
              "  <style>\n",
              "    .colab-df-container {\n",
              "      display:flex;\n",
              "      flex-wrap:wrap;\n",
              "      gap: 12px;\n",
              "    }\n",
              "\n",
              "    .colab-df-convert {\n",
              "      background-color: #E8F0FE;\n",
              "      border: none;\n",
              "      border-radius: 50%;\n",
              "      cursor: pointer;\n",
              "      display: none;\n",
              "      fill: #1967D2;\n",
              "      height: 32px;\n",
              "      padding: 0 0 0 0;\n",
              "      width: 32px;\n",
              "    }\n",
              "\n",
              "    .colab-df-convert:hover {\n",
              "      background-color: #E2EBFA;\n",
              "      box-shadow: 0px 1px 2px rgba(60, 64, 67, 0.3), 0px 1px 3px 1px rgba(60, 64, 67, 0.15);\n",
              "      fill: #174EA6;\n",
              "    }\n",
              "\n",
              "    [theme=dark] .colab-df-convert {\n",
              "      background-color: #3B4455;\n",
              "      fill: #D2E3FC;\n",
              "    }\n",
              "\n",
              "    [theme=dark] .colab-df-convert:hover {\n",
              "      background-color: #434B5C;\n",
              "      box-shadow: 0px 1px 3px 1px rgba(0, 0, 0, 0.15);\n",
              "      filter: drop-shadow(0px 1px 2px rgba(0, 0, 0, 0.3));\n",
              "      fill: #FFFFFF;\n",
              "    }\n",
              "  </style>\n",
              "\n",
              "      <script>\n",
              "        const buttonEl =\n",
              "          document.querySelector('#df-81b81617-000e-4493-bc78-48811288f42f button.colab-df-convert');\n",
              "        buttonEl.style.display =\n",
              "          google.colab.kernel.accessAllowed ? 'block' : 'none';\n",
              "\n",
              "        async function convertToInteractive(key) {\n",
              "          const element = document.querySelector('#df-81b81617-000e-4493-bc78-48811288f42f');\n",
              "          const dataTable =\n",
              "            await google.colab.kernel.invokeFunction('convertToInteractive',\n",
              "                                                     [key], {});\n",
              "          if (!dataTable) return;\n",
              "\n",
              "          const docLinkHtml = 'Like what you see? Visit the ' +\n",
              "            '<a target=\"_blank\" href=https://colab.research.google.com/notebooks/data_table.ipynb>data table notebook</a>'\n",
              "            + ' to learn more about interactive tables.';\n",
              "          element.innerHTML = '';\n",
              "          dataTable['output_type'] = 'display_data';\n",
              "          await google.colab.output.renderOutput(dataTable, element);\n",
              "          const docLink = document.createElement('div');\n",
              "          docLink.innerHTML = docLinkHtml;\n",
              "          element.appendChild(docLink);\n",
              "        }\n",
              "      </script>\n",
              "    </div>\n",
              "  </div>\n",
              "  "
            ]
          },
          "metadata": {},
          "execution_count": 17
        }
      ]
    },
    {
      "cell_type": "markdown",
      "source": [
        "### Adding the call mid and put mid columns"
      ],
      "metadata": {
        "id": "Hu-y0LjuKVdo"
      }
    },
    {
      "cell_type": "code",
      "source": [
        "def mid(bid, ask):\n",
        "  return (bid+ask)/2\n",
        "\n",
        "callmid = []\n",
        "putmid = []\n",
        "for index, row in data.iterrows():\n",
        "  callmid.append(mid(row['Bid'], row['Ask']))\n",
        "  putmid.append(mid(row['Bid1'], row['Ask1']))\n",
        "\n",
        "data['callmid'] = callmid\n",
        "data['Putmid'] = putmid\n",
        "\n",
        "data.head()"
      ],
      "metadata": {
        "colab": {
          "base_uri": "https://localhost:8080/",
          "height": 238
        },
        "id": "4L6kUtaiD8q7",
        "outputId": "3fa989e9-754a-453a-cab3-801a9a5c05d4"
      },
      "execution_count": null,
      "outputs": [
        {
          "output_type": "execute_result",
          "data": {
            "text/plain": [
              "                   Bid    Ask  Strike  Bid1  Ask1  callmid  Putmid\n",
              "Expiration Date                                                   \n",
              "2022-12-08       55.46  55.67   343.0  0.01  0.02   55.565   0.015\n",
              "2022-12-08       54.46  54.65   344.0  0.01  0.02   54.555   0.015\n",
              "2022-12-08       53.46  53.65   345.0  0.01  0.02   53.555   0.015\n",
              "2022-12-08       52.46  52.66   346.0  0.01  0.02   52.560   0.015\n",
              "2022-12-08       51.48  51.68   347.0  0.01  0.02   51.580   0.015"
            ],
            "text/html": [
              "\n",
              "  <div id=\"df-5a0352b6-02c6-411c-9ad4-01a7d5bf07c4\">\n",
              "    <div class=\"colab-df-container\">\n",
              "      <div>\n",
              "<style scoped>\n",
              "    .dataframe tbody tr th:only-of-type {\n",
              "        vertical-align: middle;\n",
              "    }\n",
              "\n",
              "    .dataframe tbody tr th {\n",
              "        vertical-align: top;\n",
              "    }\n",
              "\n",
              "    .dataframe thead th {\n",
              "        text-align: right;\n",
              "    }\n",
              "</style>\n",
              "<table border=\"1\" class=\"dataframe\">\n",
              "  <thead>\n",
              "    <tr style=\"text-align: right;\">\n",
              "      <th></th>\n",
              "      <th>Bid</th>\n",
              "      <th>Ask</th>\n",
              "      <th>Strike</th>\n",
              "      <th>Bid1</th>\n",
              "      <th>Ask1</th>\n",
              "      <th>callmid</th>\n",
              "      <th>Putmid</th>\n",
              "    </tr>\n",
              "    <tr>\n",
              "      <th>Expiration Date</th>\n",
              "      <th></th>\n",
              "      <th></th>\n",
              "      <th></th>\n",
              "      <th></th>\n",
              "      <th></th>\n",
              "      <th></th>\n",
              "      <th></th>\n",
              "    </tr>\n",
              "  </thead>\n",
              "  <tbody>\n",
              "    <tr>\n",
              "      <th>2022-12-08</th>\n",
              "      <td>55.46</td>\n",
              "      <td>55.67</td>\n",
              "      <td>343.0</td>\n",
              "      <td>0.01</td>\n",
              "      <td>0.02</td>\n",
              "      <td>55.565</td>\n",
              "      <td>0.015</td>\n",
              "    </tr>\n",
              "    <tr>\n",
              "      <th>2022-12-08</th>\n",
              "      <td>54.46</td>\n",
              "      <td>54.65</td>\n",
              "      <td>344.0</td>\n",
              "      <td>0.01</td>\n",
              "      <td>0.02</td>\n",
              "      <td>54.555</td>\n",
              "      <td>0.015</td>\n",
              "    </tr>\n",
              "    <tr>\n",
              "      <th>2022-12-08</th>\n",
              "      <td>53.46</td>\n",
              "      <td>53.65</td>\n",
              "      <td>345.0</td>\n",
              "      <td>0.01</td>\n",
              "      <td>0.02</td>\n",
              "      <td>53.555</td>\n",
              "      <td>0.015</td>\n",
              "    </tr>\n",
              "    <tr>\n",
              "      <th>2022-12-08</th>\n",
              "      <td>52.46</td>\n",
              "      <td>52.66</td>\n",
              "      <td>346.0</td>\n",
              "      <td>0.01</td>\n",
              "      <td>0.02</td>\n",
              "      <td>52.560</td>\n",
              "      <td>0.015</td>\n",
              "    </tr>\n",
              "    <tr>\n",
              "      <th>2022-12-08</th>\n",
              "      <td>51.48</td>\n",
              "      <td>51.68</td>\n",
              "      <td>347.0</td>\n",
              "      <td>0.01</td>\n",
              "      <td>0.02</td>\n",
              "      <td>51.580</td>\n",
              "      <td>0.015</td>\n",
              "    </tr>\n",
              "  </tbody>\n",
              "</table>\n",
              "</div>\n",
              "      <button class=\"colab-df-convert\" onclick=\"convertToInteractive('df-5a0352b6-02c6-411c-9ad4-01a7d5bf07c4')\"\n",
              "              title=\"Convert this dataframe to an interactive table.\"\n",
              "              style=\"display:none;\">\n",
              "        \n",
              "  <svg xmlns=\"http://www.w3.org/2000/svg\" height=\"24px\"viewBox=\"0 0 24 24\"\n",
              "       width=\"24px\">\n",
              "    <path d=\"M0 0h24v24H0V0z\" fill=\"none\"/>\n",
              "    <path d=\"M18.56 5.44l.94 2.06.94-2.06 2.06-.94-2.06-.94-.94-2.06-.94 2.06-2.06.94zm-11 1L8.5 8.5l.94-2.06 2.06-.94-2.06-.94L8.5 2.5l-.94 2.06-2.06.94zm10 10l.94 2.06.94-2.06 2.06-.94-2.06-.94-.94-2.06-.94 2.06-2.06.94z\"/><path d=\"M17.41 7.96l-1.37-1.37c-.4-.4-.92-.59-1.43-.59-.52 0-1.04.2-1.43.59L10.3 9.45l-7.72 7.72c-.78.78-.78 2.05 0 2.83L4 21.41c.39.39.9.59 1.41.59.51 0 1.02-.2 1.41-.59l7.78-7.78 2.81-2.81c.8-.78.8-2.07 0-2.86zM5.41 20L4 18.59l7.72-7.72 1.47 1.35L5.41 20z\"/>\n",
              "  </svg>\n",
              "      </button>\n",
              "      \n",
              "  <style>\n",
              "    .colab-df-container {\n",
              "      display:flex;\n",
              "      flex-wrap:wrap;\n",
              "      gap: 12px;\n",
              "    }\n",
              "\n",
              "    .colab-df-convert {\n",
              "      background-color: #E8F0FE;\n",
              "      border: none;\n",
              "      border-radius: 50%;\n",
              "      cursor: pointer;\n",
              "      display: none;\n",
              "      fill: #1967D2;\n",
              "      height: 32px;\n",
              "      padding: 0 0 0 0;\n",
              "      width: 32px;\n",
              "    }\n",
              "\n",
              "    .colab-df-convert:hover {\n",
              "      background-color: #E2EBFA;\n",
              "      box-shadow: 0px 1px 2px rgba(60, 64, 67, 0.3), 0px 1px 3px 1px rgba(60, 64, 67, 0.15);\n",
              "      fill: #174EA6;\n",
              "    }\n",
              "\n",
              "    [theme=dark] .colab-df-convert {\n",
              "      background-color: #3B4455;\n",
              "      fill: #D2E3FC;\n",
              "    }\n",
              "\n",
              "    [theme=dark] .colab-df-convert:hover {\n",
              "      background-color: #434B5C;\n",
              "      box-shadow: 0px 1px 3px 1px rgba(0, 0, 0, 0.15);\n",
              "      filter: drop-shadow(0px 1px 2px rgba(0, 0, 0, 0.3));\n",
              "      fill: #FFFFFF;\n",
              "    }\n",
              "  </style>\n",
              "\n",
              "      <script>\n",
              "        const buttonEl =\n",
              "          document.querySelector('#df-5a0352b6-02c6-411c-9ad4-01a7d5bf07c4 button.colab-df-convert');\n",
              "        buttonEl.style.display =\n",
              "          google.colab.kernel.accessAllowed ? 'block' : 'none';\n",
              "\n",
              "        async function convertToInteractive(key) {\n",
              "          const element = document.querySelector('#df-5a0352b6-02c6-411c-9ad4-01a7d5bf07c4');\n",
              "          const dataTable =\n",
              "            await google.colab.kernel.invokeFunction('convertToInteractive',\n",
              "                                                     [key], {});\n",
              "          if (!dataTable) return;\n",
              "\n",
              "          const docLinkHtml = 'Like what you see? Visit the ' +\n",
              "            '<a target=\"_blank\" href=https://colab.research.google.com/notebooks/data_table.ipynb>data table notebook</a>'\n",
              "            + ' to learn more about interactive tables.';\n",
              "          element.innerHTML = '';\n",
              "          dataTable['output_type'] = 'display_data';\n",
              "          await google.colab.output.renderOutput(dataTable, element);\n",
              "          const docLink = document.createElement('div');\n",
              "          docLink.innerHTML = docLinkHtml;\n",
              "          element.appendChild(docLink);\n",
              "        }\n",
              "      </script>\n",
              "    </div>\n",
              "  </div>\n",
              "  "
            ]
          },
          "metadata": {},
          "execution_count": 18
        }
      ]
    },
    {
      "cell_type": "markdown",
      "source": [
        "### Adding the delta column (difference is strike pricese) "
      ],
      "metadata": {
        "id": "gHNhNAaKKf4j"
      }
    },
    {
      "cell_type": "code",
      "source": [
        "difference = data['Strike'].diff()\n",
        "data['delta'] = difference\n",
        "data.head()"
      ],
      "metadata": {
        "colab": {
          "base_uri": "https://localhost:8080/",
          "height": 238
        },
        "id": "DExbJCTjD-0P",
        "outputId": "eb832b5d-d596-414b-ce3a-dd5181e61514"
      },
      "execution_count": null,
      "outputs": [
        {
          "output_type": "execute_result",
          "data": {
            "text/plain": [
              "                   Bid    Ask  Strike  Bid1  Ask1  callmid  Putmid  delta\n",
              "Expiration Date                                                          \n",
              "2022-12-08       55.46  55.67   343.0  0.01  0.02   55.565   0.015    NaN\n",
              "2022-12-08       54.46  54.65   344.0  0.01  0.02   54.555   0.015    1.0\n",
              "2022-12-08       53.46  53.65   345.0  0.01  0.02   53.555   0.015    1.0\n",
              "2022-12-08       52.46  52.66   346.0  0.01  0.02   52.560   0.015    1.0\n",
              "2022-12-08       51.48  51.68   347.0  0.01  0.02   51.580   0.015    1.0"
            ],
            "text/html": [
              "\n",
              "  <div id=\"df-424803e1-3889-4ba4-bb94-bdee7db6a8b7\">\n",
              "    <div class=\"colab-df-container\">\n",
              "      <div>\n",
              "<style scoped>\n",
              "    .dataframe tbody tr th:only-of-type {\n",
              "        vertical-align: middle;\n",
              "    }\n",
              "\n",
              "    .dataframe tbody tr th {\n",
              "        vertical-align: top;\n",
              "    }\n",
              "\n",
              "    .dataframe thead th {\n",
              "        text-align: right;\n",
              "    }\n",
              "</style>\n",
              "<table border=\"1\" class=\"dataframe\">\n",
              "  <thead>\n",
              "    <tr style=\"text-align: right;\">\n",
              "      <th></th>\n",
              "      <th>Bid</th>\n",
              "      <th>Ask</th>\n",
              "      <th>Strike</th>\n",
              "      <th>Bid1</th>\n",
              "      <th>Ask1</th>\n",
              "      <th>callmid</th>\n",
              "      <th>Putmid</th>\n",
              "      <th>delta</th>\n",
              "    </tr>\n",
              "    <tr>\n",
              "      <th>Expiration Date</th>\n",
              "      <th></th>\n",
              "      <th></th>\n",
              "      <th></th>\n",
              "      <th></th>\n",
              "      <th></th>\n",
              "      <th></th>\n",
              "      <th></th>\n",
              "      <th></th>\n",
              "    </tr>\n",
              "  </thead>\n",
              "  <tbody>\n",
              "    <tr>\n",
              "      <th>2022-12-08</th>\n",
              "      <td>55.46</td>\n",
              "      <td>55.67</td>\n",
              "      <td>343.0</td>\n",
              "      <td>0.01</td>\n",
              "      <td>0.02</td>\n",
              "      <td>55.565</td>\n",
              "      <td>0.015</td>\n",
              "      <td>NaN</td>\n",
              "    </tr>\n",
              "    <tr>\n",
              "      <th>2022-12-08</th>\n",
              "      <td>54.46</td>\n",
              "      <td>54.65</td>\n",
              "      <td>344.0</td>\n",
              "      <td>0.01</td>\n",
              "      <td>0.02</td>\n",
              "      <td>54.555</td>\n",
              "      <td>0.015</td>\n",
              "      <td>1.0</td>\n",
              "    </tr>\n",
              "    <tr>\n",
              "      <th>2022-12-08</th>\n",
              "      <td>53.46</td>\n",
              "      <td>53.65</td>\n",
              "      <td>345.0</td>\n",
              "      <td>0.01</td>\n",
              "      <td>0.02</td>\n",
              "      <td>53.555</td>\n",
              "      <td>0.015</td>\n",
              "      <td>1.0</td>\n",
              "    </tr>\n",
              "    <tr>\n",
              "      <th>2022-12-08</th>\n",
              "      <td>52.46</td>\n",
              "      <td>52.66</td>\n",
              "      <td>346.0</td>\n",
              "      <td>0.01</td>\n",
              "      <td>0.02</td>\n",
              "      <td>52.560</td>\n",
              "      <td>0.015</td>\n",
              "      <td>1.0</td>\n",
              "    </tr>\n",
              "    <tr>\n",
              "      <th>2022-12-08</th>\n",
              "      <td>51.48</td>\n",
              "      <td>51.68</td>\n",
              "      <td>347.0</td>\n",
              "      <td>0.01</td>\n",
              "      <td>0.02</td>\n",
              "      <td>51.580</td>\n",
              "      <td>0.015</td>\n",
              "      <td>1.0</td>\n",
              "    </tr>\n",
              "  </tbody>\n",
              "</table>\n",
              "</div>\n",
              "      <button class=\"colab-df-convert\" onclick=\"convertToInteractive('df-424803e1-3889-4ba4-bb94-bdee7db6a8b7')\"\n",
              "              title=\"Convert this dataframe to an interactive table.\"\n",
              "              style=\"display:none;\">\n",
              "        \n",
              "  <svg xmlns=\"http://www.w3.org/2000/svg\" height=\"24px\"viewBox=\"0 0 24 24\"\n",
              "       width=\"24px\">\n",
              "    <path d=\"M0 0h24v24H0V0z\" fill=\"none\"/>\n",
              "    <path d=\"M18.56 5.44l.94 2.06.94-2.06 2.06-.94-2.06-.94-.94-2.06-.94 2.06-2.06.94zm-11 1L8.5 8.5l.94-2.06 2.06-.94-2.06-.94L8.5 2.5l-.94 2.06-2.06.94zm10 10l.94 2.06.94-2.06 2.06-.94-2.06-.94-.94-2.06-.94 2.06-2.06.94z\"/><path d=\"M17.41 7.96l-1.37-1.37c-.4-.4-.92-.59-1.43-.59-.52 0-1.04.2-1.43.59L10.3 9.45l-7.72 7.72c-.78.78-.78 2.05 0 2.83L4 21.41c.39.39.9.59 1.41.59.51 0 1.02-.2 1.41-.59l7.78-7.78 2.81-2.81c.8-.78.8-2.07 0-2.86zM5.41 20L4 18.59l7.72-7.72 1.47 1.35L5.41 20z\"/>\n",
              "  </svg>\n",
              "      </button>\n",
              "      \n",
              "  <style>\n",
              "    .colab-df-container {\n",
              "      display:flex;\n",
              "      flex-wrap:wrap;\n",
              "      gap: 12px;\n",
              "    }\n",
              "\n",
              "    .colab-df-convert {\n",
              "      background-color: #E8F0FE;\n",
              "      border: none;\n",
              "      border-radius: 50%;\n",
              "      cursor: pointer;\n",
              "      display: none;\n",
              "      fill: #1967D2;\n",
              "      height: 32px;\n",
              "      padding: 0 0 0 0;\n",
              "      width: 32px;\n",
              "    }\n",
              "\n",
              "    .colab-df-convert:hover {\n",
              "      background-color: #E2EBFA;\n",
              "      box-shadow: 0px 1px 2px rgba(60, 64, 67, 0.3), 0px 1px 3px 1px rgba(60, 64, 67, 0.15);\n",
              "      fill: #174EA6;\n",
              "    }\n",
              "\n",
              "    [theme=dark] .colab-df-convert {\n",
              "      background-color: #3B4455;\n",
              "      fill: #D2E3FC;\n",
              "    }\n",
              "\n",
              "    [theme=dark] .colab-df-convert:hover {\n",
              "      background-color: #434B5C;\n",
              "      box-shadow: 0px 1px 3px 1px rgba(0, 0, 0, 0.15);\n",
              "      filter: drop-shadow(0px 1px 2px rgba(0, 0, 0, 0.3));\n",
              "      fill: #FFFFFF;\n",
              "    }\n",
              "  </style>\n",
              "\n",
              "      <script>\n",
              "        const buttonEl =\n",
              "          document.querySelector('#df-424803e1-3889-4ba4-bb94-bdee7db6a8b7 button.colab-df-convert');\n",
              "        buttonEl.style.display =\n",
              "          google.colab.kernel.accessAllowed ? 'block' : 'none';\n",
              "\n",
              "        async function convertToInteractive(key) {\n",
              "          const element = document.querySelector('#df-424803e1-3889-4ba4-bb94-bdee7db6a8b7');\n",
              "          const dataTable =\n",
              "            await google.colab.kernel.invokeFunction('convertToInteractive',\n",
              "                                                     [key], {});\n",
              "          if (!dataTable) return;\n",
              "\n",
              "          const docLinkHtml = 'Like what you see? Visit the ' +\n",
              "            '<a target=\"_blank\" href=https://colab.research.google.com/notebooks/data_table.ipynb>data table notebook</a>'\n",
              "            + ' to learn more about interactive tables.';\n",
              "          element.innerHTML = '';\n",
              "          dataTable['output_type'] = 'display_data';\n",
              "          await google.colab.output.renderOutput(dataTable, element);\n",
              "          const docLink = document.createElement('div');\n",
              "          docLink.innerHTML = docLinkHtml;\n",
              "          element.appendChild(docLink);\n",
              "        }\n",
              "      </script>\n",
              "    </div>\n",
              "  </div>\n",
              "  "
            ]
          },
          "metadata": {},
          "execution_count": 19
        }
      ]
    },
    {
      "cell_type": "markdown",
      "source": [
        "### Adding the butterfly calls and puts"
      ],
      "metadata": {
        "id": "e9-5ZXwUKp_q"
      }
    },
    {
      "cell_type": "code",
      "source": [
        "calls = []\n",
        "puts = []\n",
        "for i in range (len(data.index)-2):\n",
        "  calls.append(data.iloc[i, 5]-2*data.iloc[i+1, 5]+data.iloc[i+2, 5])\n",
        "  puts.append(data.iloc[i, 6]-2*data.iloc[i+1, 6]+data.iloc[i+2, 6])\n",
        "\n",
        "calls.append(data.iloc[len(data.index)-2, 5]-2*data.iloc[len(data.index)-1, 5])\n",
        "calls.append(0)\n",
        "puts.append(data.iloc[len(data.index)-2, 6]-2*data.iloc[len(data.index)-1, 6])\n",
        "puts.append(0)\n",
        "data['ButterflyCalls'] = calls\n",
        "data['ButterflyPuts'] = puts"
      ],
      "metadata": {
        "id": "Vz0EzcfnEA3Q"
      },
      "execution_count": null,
      "outputs": []
    },
    {
      "cell_type": "code",
      "source": [
        "data.tail()"
      ],
      "metadata": {
        "colab": {
          "base_uri": "https://localhost:8080/",
          "height": 238
        },
        "id": "scTvIUghEDYc",
        "outputId": "6360e07e-1b00-4b65-e6d3-b36206443986"
      },
      "execution_count": null,
      "outputs": [
        {
          "output_type": "execute_result",
          "data": {
            "text/plain": [
              "                  Bid   Ask  Strike   Bid1   Ask1  callmid  Putmid  delta  \\\n",
              "Expiration Date                                                             \n",
              "2022-12-08       0.03  0.04   414.0  15.51  15.69    0.035  15.600    1.0   \n",
              "2022-12-08       0.02  0.03   415.0  16.50  16.69    0.025  16.595    1.0   \n",
              "2022-12-08       0.01  0.02   416.0  17.50  17.68    0.015  17.590    1.0   \n",
              "2022-12-08       0.01  0.02   417.0  18.50  18.68    0.015  18.590    1.0   \n",
              "2022-12-08       0.01  0.02   418.0  19.50  19.68    0.015  19.590    1.0   \n",
              "\n",
              "                 ButterflyCalls  ButterflyPuts  \n",
              "Expiration Date                                 \n",
              "2022-12-08                0.000   3.552714e-15  \n",
              "2022-12-08                0.010   5.000000e-03  \n",
              "2022-12-08                0.000   0.000000e+00  \n",
              "2022-12-08               -0.015  -2.059000e+01  \n",
              "2022-12-08                0.000   0.000000e+00  "
            ],
            "text/html": [
              "\n",
              "  <div id=\"df-b538970f-cb4c-4e69-8f3d-a469b0038ba6\">\n",
              "    <div class=\"colab-df-container\">\n",
              "      <div>\n",
              "<style scoped>\n",
              "    .dataframe tbody tr th:only-of-type {\n",
              "        vertical-align: middle;\n",
              "    }\n",
              "\n",
              "    .dataframe tbody tr th {\n",
              "        vertical-align: top;\n",
              "    }\n",
              "\n",
              "    .dataframe thead th {\n",
              "        text-align: right;\n",
              "    }\n",
              "</style>\n",
              "<table border=\"1\" class=\"dataframe\">\n",
              "  <thead>\n",
              "    <tr style=\"text-align: right;\">\n",
              "      <th></th>\n",
              "      <th>Bid</th>\n",
              "      <th>Ask</th>\n",
              "      <th>Strike</th>\n",
              "      <th>Bid1</th>\n",
              "      <th>Ask1</th>\n",
              "      <th>callmid</th>\n",
              "      <th>Putmid</th>\n",
              "      <th>delta</th>\n",
              "      <th>ButterflyCalls</th>\n",
              "      <th>ButterflyPuts</th>\n",
              "    </tr>\n",
              "    <tr>\n",
              "      <th>Expiration Date</th>\n",
              "      <th></th>\n",
              "      <th></th>\n",
              "      <th></th>\n",
              "      <th></th>\n",
              "      <th></th>\n",
              "      <th></th>\n",
              "      <th></th>\n",
              "      <th></th>\n",
              "      <th></th>\n",
              "      <th></th>\n",
              "    </tr>\n",
              "  </thead>\n",
              "  <tbody>\n",
              "    <tr>\n",
              "      <th>2022-12-08</th>\n",
              "      <td>0.03</td>\n",
              "      <td>0.04</td>\n",
              "      <td>414.0</td>\n",
              "      <td>15.51</td>\n",
              "      <td>15.69</td>\n",
              "      <td>0.035</td>\n",
              "      <td>15.600</td>\n",
              "      <td>1.0</td>\n",
              "      <td>0.000</td>\n",
              "      <td>3.552714e-15</td>\n",
              "    </tr>\n",
              "    <tr>\n",
              "      <th>2022-12-08</th>\n",
              "      <td>0.02</td>\n",
              "      <td>0.03</td>\n",
              "      <td>415.0</td>\n",
              "      <td>16.50</td>\n",
              "      <td>16.69</td>\n",
              "      <td>0.025</td>\n",
              "      <td>16.595</td>\n",
              "      <td>1.0</td>\n",
              "      <td>0.010</td>\n",
              "      <td>5.000000e-03</td>\n",
              "    </tr>\n",
              "    <tr>\n",
              "      <th>2022-12-08</th>\n",
              "      <td>0.01</td>\n",
              "      <td>0.02</td>\n",
              "      <td>416.0</td>\n",
              "      <td>17.50</td>\n",
              "      <td>17.68</td>\n",
              "      <td>0.015</td>\n",
              "      <td>17.590</td>\n",
              "      <td>1.0</td>\n",
              "      <td>0.000</td>\n",
              "      <td>0.000000e+00</td>\n",
              "    </tr>\n",
              "    <tr>\n",
              "      <th>2022-12-08</th>\n",
              "      <td>0.01</td>\n",
              "      <td>0.02</td>\n",
              "      <td>417.0</td>\n",
              "      <td>18.50</td>\n",
              "      <td>18.68</td>\n",
              "      <td>0.015</td>\n",
              "      <td>18.590</td>\n",
              "      <td>1.0</td>\n",
              "      <td>-0.015</td>\n",
              "      <td>-2.059000e+01</td>\n",
              "    </tr>\n",
              "    <tr>\n",
              "      <th>2022-12-08</th>\n",
              "      <td>0.01</td>\n",
              "      <td>0.02</td>\n",
              "      <td>418.0</td>\n",
              "      <td>19.50</td>\n",
              "      <td>19.68</td>\n",
              "      <td>0.015</td>\n",
              "      <td>19.590</td>\n",
              "      <td>1.0</td>\n",
              "      <td>0.000</td>\n",
              "      <td>0.000000e+00</td>\n",
              "    </tr>\n",
              "  </tbody>\n",
              "</table>\n",
              "</div>\n",
              "      <button class=\"colab-df-convert\" onclick=\"convertToInteractive('df-b538970f-cb4c-4e69-8f3d-a469b0038ba6')\"\n",
              "              title=\"Convert this dataframe to an interactive table.\"\n",
              "              style=\"display:none;\">\n",
              "        \n",
              "  <svg xmlns=\"http://www.w3.org/2000/svg\" height=\"24px\"viewBox=\"0 0 24 24\"\n",
              "       width=\"24px\">\n",
              "    <path d=\"M0 0h24v24H0V0z\" fill=\"none\"/>\n",
              "    <path d=\"M18.56 5.44l.94 2.06.94-2.06 2.06-.94-2.06-.94-.94-2.06-.94 2.06-2.06.94zm-11 1L8.5 8.5l.94-2.06 2.06-.94-2.06-.94L8.5 2.5l-.94 2.06-2.06.94zm10 10l.94 2.06.94-2.06 2.06-.94-2.06-.94-.94-2.06-.94 2.06-2.06.94z\"/><path d=\"M17.41 7.96l-1.37-1.37c-.4-.4-.92-.59-1.43-.59-.52 0-1.04.2-1.43.59L10.3 9.45l-7.72 7.72c-.78.78-.78 2.05 0 2.83L4 21.41c.39.39.9.59 1.41.59.51 0 1.02-.2 1.41-.59l7.78-7.78 2.81-2.81c.8-.78.8-2.07 0-2.86zM5.41 20L4 18.59l7.72-7.72 1.47 1.35L5.41 20z\"/>\n",
              "  </svg>\n",
              "      </button>\n",
              "      \n",
              "  <style>\n",
              "    .colab-df-container {\n",
              "      display:flex;\n",
              "      flex-wrap:wrap;\n",
              "      gap: 12px;\n",
              "    }\n",
              "\n",
              "    .colab-df-convert {\n",
              "      background-color: #E8F0FE;\n",
              "      border: none;\n",
              "      border-radius: 50%;\n",
              "      cursor: pointer;\n",
              "      display: none;\n",
              "      fill: #1967D2;\n",
              "      height: 32px;\n",
              "      padding: 0 0 0 0;\n",
              "      width: 32px;\n",
              "    }\n",
              "\n",
              "    .colab-df-convert:hover {\n",
              "      background-color: #E2EBFA;\n",
              "      box-shadow: 0px 1px 2px rgba(60, 64, 67, 0.3), 0px 1px 3px 1px rgba(60, 64, 67, 0.15);\n",
              "      fill: #174EA6;\n",
              "    }\n",
              "\n",
              "    [theme=dark] .colab-df-convert {\n",
              "      background-color: #3B4455;\n",
              "      fill: #D2E3FC;\n",
              "    }\n",
              "\n",
              "    [theme=dark] .colab-df-convert:hover {\n",
              "      background-color: #434B5C;\n",
              "      box-shadow: 0px 1px 3px 1px rgba(0, 0, 0, 0.15);\n",
              "      filter: drop-shadow(0px 1px 2px rgba(0, 0, 0, 0.3));\n",
              "      fill: #FFFFFF;\n",
              "    }\n",
              "  </style>\n",
              "\n",
              "      <script>\n",
              "        const buttonEl =\n",
              "          document.querySelector('#df-b538970f-cb4c-4e69-8f3d-a469b0038ba6 button.colab-df-convert');\n",
              "        buttonEl.style.display =\n",
              "          google.colab.kernel.accessAllowed ? 'block' : 'none';\n",
              "\n",
              "        async function convertToInteractive(key) {\n",
              "          const element = document.querySelector('#df-b538970f-cb4c-4e69-8f3d-a469b0038ba6');\n",
              "          const dataTable =\n",
              "            await google.colab.kernel.invokeFunction('convertToInteractive',\n",
              "                                                     [key], {});\n",
              "          if (!dataTable) return;\n",
              "\n",
              "          const docLinkHtml = 'Like what you see? Visit the ' +\n",
              "            '<a target=\"_blank\" href=https://colab.research.google.com/notebooks/data_table.ipynb>data table notebook</a>'\n",
              "            + ' to learn more about interactive tables.';\n",
              "          element.innerHTML = '';\n",
              "          dataTable['output_type'] = 'display_data';\n",
              "          await google.colab.output.renderOutput(dataTable, element);\n",
              "          const docLink = document.createElement('div');\n",
              "          docLink.innerHTML = docLinkHtml;\n",
              "          element.appendChild(docLink);\n",
              "        }\n",
              "      </script>\n",
              "    </div>\n",
              "  </div>\n",
              "  "
            ]
          },
          "metadata": {},
          "execution_count": 21
        }
      ]
    },
    {
      "cell_type": "markdown",
      "source": [
        "### Adding the IV of each contract to the dataframe"
      ],
      "metadata": {
        "id": "BReJhm7hKxnt"
      }
    },
    {
      "cell_type": "code",
      "source": [
        "def addQToDataframe(data, strike):\n",
        "  q = []\n",
        "  for index, row in data.iterrows():\n",
        "    if(row['Strike'] < strike):\n",
        "      q.append((row['ButterflyPuts']/math.pow(row['delta'], 2)) * row['delta'])\n",
        "    else:\n",
        "      q.append((row['ButterflyCalls']/math.pow(row['delta'], 2)) * row['delta'])\n",
        "  data['Q'] = q\n",
        "  return data"
      ],
      "metadata": {
        "id": "CKuWzp3oEFLc"
      },
      "execution_count": null,
      "outputs": []
    },
    {
      "cell_type": "code",
      "source": [
        "data = addQToDataframe(data, 396)"
      ],
      "metadata": {
        "id": "4ef48VS3EHfX"
      },
      "execution_count": null,
      "outputs": []
    },
    {
      "cell_type": "code",
      "source": [
        "data['Q'].sum()"
      ],
      "metadata": {
        "colab": {
          "base_uri": "https://localhost:8080/"
        },
        "id": "p1HR_DiqEJRt",
        "outputId": "28b6f374-d664-4f05-db10-c267581961b9"
      },
      "execution_count": null,
      "outputs": [
        {
          "output_type": "execute_result",
          "data": {
            "text/plain": [
              "1.0000000000000007"
            ]
          },
          "metadata": {},
          "execution_count": 24
        }
      ]
    },
    {
      "cell_type": "markdown",
      "source": [
        "### Plot the Q Distribution"
      ],
      "metadata": {
        "id": "qJ1cm7n-K8v6"
      }
    },
    {
      "cell_type": "code",
      "source": [
        "data.plot(x='Strike', y='Q', style='o', kind='bar', figsize=(20, 10), title='dec 6 for dec 8')"
      ],
      "metadata": {
        "colab": {
          "base_uri": "https://localhost:8080/",
          "height": 582
        },
        "id": "8ViuWAlNEKup",
        "outputId": "8e2f151d-7686-45be-cbd6-1df29fdeb166"
      },
      "execution_count": null,
      "outputs": [
        {
          "output_type": "execute_result",
          "data": {
            "text/plain": [
              "<matplotlib.axes._subplots.AxesSubplot at 0x7fefef827550>"
            ]
          },
          "metadata": {},
          "execution_count": 25
        },
        {
          "output_type": "display_data",
          "data": {
            "text/plain": [
              "<Figure size 1440x720 with 1 Axes>"
            ],
            "image/png": "[encoded data removed]"
          },
          "metadata": {
            "needs_background": "light"
          }
        }
      ]
    },
    {
      "cell_type": "code",
      "source": [
        "data.loc[data['Strike'] >= 387].plot(x='Strike', y='Q', style='o', kind='bar', figsize=(20, 10), title='dec 6 for dec 8')"
      ],
      "metadata": {
        "colab": {
          "base_uri": "https://localhost:8080/",
          "height": 582
        },
        "id": "FaOAJ45bEMVW",
        "outputId": "8d8ae0c3-3141-42c0-9a15-be0f52d28bab"
      },
      "execution_count": null,
      "outputs": [
        {
          "output_type": "execute_result",
          "data": {
            "text/plain": [
              "<matplotlib.axes._subplots.AxesSubplot at 0x7fefef6625b0>"
            ]
          },
          "metadata": {},
          "execution_count": 26
        },
        {
          "output_type": "display_data",
          "data": {
            "text/plain": [
              "<Figure size 1440x720 with 1 Axes>"
            ],
            "image/png": "[encoded data removed]"
          },
          "metadata": {
            "needs_background": "light"
          }
        }
      ]
    },
    {
      "cell_type": "code",
      "source": [],
      "metadata": {
        "id": "Dc1dubV8EOK3"
      },
      "execution_count": null,
      "outputs": []
    },
    {
      "cell_type": "markdown",
      "source": [
        "# Using Stochastic calculus to Predict the range of a stock price"
      ],
      "metadata": {
        "id": "x6LQq32sRM-Y"
      }
    },
    {
      "cell_type": "code",
      "source": [
        "import scipy.stats as st\n",
        "import numpy as np\n",
        "import pandas as pd"
      ],
      "metadata": {
        "id": "qlaxdKpYRS3Z"
      },
      "execution_count": 2,
      "outputs": []
    },
    {
      "cell_type": "code",
      "source": [
        "spy = pd.read_csv('SPY_price.csv')\n",
        "spy['Daily returns'] = spy['Close'].pct_change()\n",
        "spy = spy[['Close', 'Daily returns']]\n",
        "spy['Daily returns'].std()"
      ],
      "metadata": {
        "colab": {
          "base_uri": "https://localhost:8080/"
        },
        "id": "ZM-KEf4RV1-y",
        "outputId": "eb616e1f-39b5-4f37-9ad2-4ca196dc4f3a"
      },
      "execution_count": 53,
      "outputs": [
        {
          "output_type": "execute_result",
          "data": {
            "text/plain": [
              "0.015225338384743844"
            ]
          },
          "metadata": {},
          "execution_count": 53
        }
      ]
    },
    {
      "cell_type": "code",
      "source": [
        "spy = pd.read_csv('SPY_price.csv')\n",
        "spy['Daily returns'] = spy['Close'].pct_change()\n",
        "spy = spy[['Close', 'Daily returns']]\n",
        "spy['Daily returns'].mean()\n",
        "# Import necessary libraries\n",
        "import matplotlib.pyplot as plt\n",
        "\n",
        "# Set the start and end prices for the range we are interested in\n",
        "start_price = 394\n",
        "end_price = 396\n",
        "\n",
        "# Set the time horizon (in days)\n",
        "time_horizon = 5\n",
        "\n",
        "# Calculate the drift and diffusion parameters of the stock's return process\n",
        "# Calculate the mean and standard deviation of the daily returns\n",
        "mu = spy['Daily returns'].mean()\n",
        "sigma = spy['Daily returns'].std()\n",
        "\n",
        "# Use the Euler-Maruyama method to simulate the stock's price over the time horizon\n",
        "dt = 1/252 # Set the time step (assuming 252 trading days per year)\n",
        "n_sims = 1000 # Set the number of simulations to run\n",
        "\n",
        "# Initialize the simulated prices array\n",
        "sim_prices = np.zeros((time_horizon+1, n_sims))\n",
        "\n",
        "# Set the initial price for each simulation\n",
        "sim_prices[0] = 393\n",
        "\n",
        "# Simulate the stock's price using the Euler-Maruyama method\n",
        "for t in range(1, time_horizon+1):\n",
        "    dW = np.random.normal(0, np.sqrt(dt), n_sims)\n",
        "    sim_prices[t] = sim_prices[t-1] + mu*sim_prices[t-1]*dt + sigma*sim_prices[t-1]*dW\n",
        "\n",
        "# Calculate the probability that the stock's price is within the desired range\n",
        "probability = np.mean((sim_prices[-1] >= start_price) & (sim_prices[-1] <= end_price))\n",
        "\n",
        "# Print the result\n",
        "print(\"The probability that the stock price will be within [{}, {}] in {} days is {:.2f}\".format(start_price, end_price, time_horizon, probability))"
      ],
      "metadata": {
        "colab": {
          "base_uri": "https://localhost:8080/"
        },
        "id": "ao5Gv_QoRXuB",
        "outputId": "c82e48ec-c64d-4186-a10e-30f00a864c9c"
      },
      "execution_count": 61,
      "outputs": [
        {
          "output_type": "stream",
          "name": "stdout",
          "text": [
            "The probability that the stock price will be within [394, 396] in 5 days is 0.12\n"
          ]
        }
      ]
    },
    {
      "cell_type": "markdown",
      "source": [
        "## Using Black-Scholes to simulate prices"
      ],
      "metadata": {
        "id": "qfZBV3_mhf-Y"
      }
    },
    {
      "cell_type": "code",
      "source": [
        "# Initialize the simulated prices array\n",
        "sim_prices = np.zeros((time_horizon+1, n_sims))\n",
        "\n",
        "# Set the initial price for each simulation\n",
        "sim_prices[0] = 393\n",
        "\n",
        "# Simulate the stock's price using the Black-Scholes model\n",
        "for t in range(1, time_horizon+1):\n",
        "    dW = np.random.normal(0, np.sqrt(dt), n_sims)\n",
        "    sim_prices[t] = sim_prices[t-1] * np.exp((mu - 0.5 * sigma**2) * dt + sigma * dW)\n",
        "\n",
        "# Count the number of simulations in which the stock's price is within the desired range\n",
        "num_in_range = np.sum((sim_prices[-1] >= start_price) & (sim_prices[-1] <= end_price))\n",
        "\n",
        "# Calculate the probability that the stock's price is within the desired range\n",
        "probability = num_in_range / n_sims\n",
        "\n",
        "# Print the result\n",
        "print(\"The probability that the stock price will be within [{}, {}] in {} days is {:.2f}\".format(start_price, end_price, time_horizon, probability))"
      ],
      "metadata": {
        "colab": {
          "base_uri": "https://localhost:8080/"
        },
        "id": "6x8ztyTfhkFV",
        "outputId": "087778bf-cd89-46fa-ff25-644c7d570ede"
      },
      "execution_count": 62,
      "outputs": [
        {
          "output_type": "stream",
          "name": "stdout",
          "text": [
            "The probability that the stock price will be within [394, 396] in 5 days is 0.11\n"
          ]
        }
      ]
    },
    {
      "cell_type": "code",
      "source": [],
      "metadata": {
        "id": "FNgiPTb-h8CL"
      },
      "execution_count": null,
      "outputs": []
    }
  ]
}